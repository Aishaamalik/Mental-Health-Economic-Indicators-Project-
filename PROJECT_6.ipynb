{
  "nbformat": 4,
  "nbformat_minor": 0,
  "metadata": {
    "colab": {
      "provenance": [],
      "authorship_tag": "ABX9TyMJegjv4Gbm+ebZR8C/5bn7",
      "include_colab_link": true
    },
    "kernelspec": {
      "name": "python3",
      "display_name": "Python 3"
    },
    "language_info": {
      "name": "python"
    }
  },
  "cells": [
    {
      "cell_type": "markdown",
      "metadata": {
        "id": "view-in-github",
        "colab_type": "text"
      },
      "source": [
        "<a href=\"https://colab.research.google.com/github/Aishaamalik/Mental-Health-Economic-Indicators-Project-/blob/main/PROJECT_6.ipynb\" target=\"_parent\"><img src=\"https://colab.research.google.com/assets/colab-badge.svg\" alt=\"Open In Colab\"/></a>"
      ]
    },
    {
      "cell_type": "markdown",
      "source": [
        "# **Mental Health & Economic Indicators Project**"
      ],
      "metadata": {
        "id": "V9ChM-SHjqmL"
      }
    },
    {
      "cell_type": "markdown",
      "source": [
        "----\n",
        "----"
      ],
      "metadata": {
        "id": "rReSYNhfj0Z8"
      }
    },
    {
      "cell_type": "markdown",
      "source": [
        "# 1: DATA EXPLORATION"
      ],
      "metadata": {
        "id": "xCwoSIJ0j2Aq"
      }
    },
    {
      "cell_type": "markdown",
      "source": [
        "## 1: Importing Required Libraries"
      ],
      "metadata": {
        "id": "AgAOPnMXj5UU"
      }
    },
    {
      "cell_type": "code",
      "execution_count": 1,
      "metadata": {
        "id": "8kQM1Ou0jV3-"
      },
      "outputs": [],
      "source": [
        "import pandas as pd\n",
        "import numpy as np\n",
        "import matplotlib.pyplot as plt\n",
        "import seaborn as sns\n",
        "from collections import Counter"
      ]
    },
    {
      "cell_type": "markdown",
      "source": [
        "## 2: Loading the Data"
      ],
      "metadata": {
        "id": "IQOB7lbjj8AU"
      }
    },
    {
      "cell_type": "code",
      "source": [
        "df = pd.read_csv('survey.csv')\n"
      ],
      "metadata": {
        "id": "OotVlACijf39"
      },
      "execution_count": 3,
      "outputs": []
    },
    {
      "cell_type": "markdown",
      "source": [
        "## 3: Dataset Overview"
      ],
      "metadata": {
        "id": "Td87cZZcjn4N"
      }
    },
    {
      "cell_type": "code",
      "source": [
        "print(\" DATASET OVERVIEW\")\n",
        "print(\"-\" * 30)\n",
        "print(f\"Dataset shape: {df.shape}\")\n",
        "print(f\"Number of rows: {df.shape[0]}\")\n",
        "print(f\"Number of columns: {df.shape[1]}\")"
      ],
      "metadata": {
        "colab": {
          "base_uri": "https://localhost:8080/"
        },
        "id": "I_DegYuPjkcD",
        "outputId": "8a0ef414-ba44-4bb3-e81d-391046e32b97"
      },
      "execution_count": 6,
      "outputs": [
        {
          "output_type": "stream",
          "name": "stdout",
          "text": [
            " DATASET OVERVIEW\n",
            "------------------------------\n",
            "Dataset shape: (1259, 27)\n",
            "Number of rows: 1259\n",
            "Number of columns: 27\n"
          ]
        }
      ]
    },
    {
      "cell_type": "markdown",
      "source": [
        "## 4: Column Names"
      ],
      "metadata": {
        "id": "DhtCkTE6kTFg"
      }
    },
    {
      "cell_type": "code",
      "source": [
        "print(\" COLUMN NAMES\")\n",
        "print(\"-\" * 30)\n",
        "for i, col in enumerate(df.columns, 1):\n",
        "    print(f\"{i:2d}. {col}\")"
      ],
      "metadata": {
        "colab": {
          "base_uri": "https://localhost:8080/"
        },
        "id": "M3WR_4j6kWjJ",
        "outputId": "cdc26382-d641-4e0a-aba9-05bc17e07718"
      },
      "execution_count": 7,
      "outputs": [
        {
          "output_type": "stream",
          "name": "stdout",
          "text": [
            " COLUMN NAMES\n",
            "------------------------------\n",
            " 1. Timestamp\n",
            " 2. Age\n",
            " 3. Gender\n",
            " 4. Country\n",
            " 5. state\n",
            " 6. self_employed\n",
            " 7. family_history\n",
            " 8. treatment\n",
            " 9. work_interfere\n",
            "10. no_employees\n",
            "11. remote_work\n",
            "12. tech_company\n",
            "13. benefits\n",
            "14. care_options\n",
            "15. wellness_program\n",
            "16. seek_help\n",
            "17. anonymity\n",
            "18. leave\n",
            "19. mental_health_consequence\n",
            "20. phys_health_consequence\n",
            "21. coworkers\n",
            "22. supervisor\n",
            "23. mental_health_interview\n",
            "24. phys_health_interview\n",
            "25. mental_vs_physical\n",
            "26. obs_consequence\n",
            "27. comments\n"
          ]
        }
      ]
    },
    {
      "cell_type": "markdown",
      "source": [
        "## 5: Data Types"
      ],
      "metadata": {
        "id": "6gYpT_ZAkZNM"
      }
    },
    {
      "cell_type": "code",
      "source": [
        "print(\"DATA TYPES\")\n",
        "print(\"-\" * 30)\n",
        "print(df.dtypes)"
      ],
      "metadata": {
        "colab": {
          "base_uri": "https://localhost:8080/"
        },
        "id": "zcR2eHkqkce5",
        "outputId": "2e672e4c-17c1-4e8d-916d-00bf1405e7d8"
      },
      "execution_count": 9,
      "outputs": [
        {
          "output_type": "stream",
          "name": "stdout",
          "text": [
            "DATA TYPES\n",
            "------------------------------\n",
            "Timestamp                    object\n",
            "Age                           int64\n",
            "Gender                       object\n",
            "Country                      object\n",
            "state                        object\n",
            "self_employed                object\n",
            "family_history               object\n",
            "treatment                    object\n",
            "work_interfere               object\n",
            "no_employees                 object\n",
            "remote_work                  object\n",
            "tech_company                 object\n",
            "benefits                     object\n",
            "care_options                 object\n",
            "wellness_program             object\n",
            "seek_help                    object\n",
            "anonymity                    object\n",
            "leave                        object\n",
            "mental_health_consequence    object\n",
            "phys_health_consequence      object\n",
            "coworkers                    object\n",
            "supervisor                   object\n",
            "mental_health_interview      object\n",
            "phys_health_interview        object\n",
            "mental_vs_physical           object\n",
            "obs_consequence              object\n",
            "comments                     object\n",
            "dtype: object\n"
          ]
        }
      ]
    },
    {
      "cell_type": "markdown",
      "source": [
        "## 6: First and last five row display"
      ],
      "metadata": {
        "id": "i0tlGScEkgFR"
      }
    },
    {
      "cell_type": "code",
      "source": [
        "\n",
        "print(\"\\n FIRST 5 ROWS\")\n",
        "print(\"-\" * 30)\n",
        "print(df.head())\n",
        "\n",
        "print(\"\\n LAST 5 ROWS\")\n",
        "print(\"-\" * 30)\n",
        "print(df.tail())"
      ],
      "metadata": {
        "colab": {
          "base_uri": "https://localhost:8080/"
        },
        "id": "ZO3piZWEknC7",
        "outputId": "b9e2bbba-2797-4513-e942-39ba1adfa75e"
      },
      "execution_count": 10,
      "outputs": [
        {
          "output_type": "stream",
          "name": "stdout",
          "text": [
            "\n",
            " FIRST 5 ROWS\n",
            "------------------------------\n",
            "             Timestamp  Age  Gender         Country state self_employed  \\\n",
            "0  2014-08-27 11:29:31   37  Female   United States    IL           NaN   \n",
            "1  2014-08-27 11:29:37   44       M   United States    IN           NaN   \n",
            "2  2014-08-27 11:29:44   32    Male          Canada   NaN           NaN   \n",
            "3  2014-08-27 11:29:46   31    Male  United Kingdom   NaN           NaN   \n",
            "4  2014-08-27 11:30:22   31    Male   United States    TX           NaN   \n",
            "\n",
            "  family_history treatment work_interfere    no_employees  ...  \\\n",
            "0             No       Yes          Often            6-25  ...   \n",
            "1             No        No         Rarely  More than 1000  ...   \n",
            "2             No        No         Rarely            6-25  ...   \n",
            "3            Yes       Yes          Often          26-100  ...   \n",
            "4             No        No          Never         100-500  ...   \n",
            "\n",
            "                leave mental_health_consequence phys_health_consequence  \\\n",
            "0       Somewhat easy                        No                      No   \n",
            "1          Don't know                     Maybe                      No   \n",
            "2  Somewhat difficult                        No                      No   \n",
            "3  Somewhat difficult                       Yes                     Yes   \n",
            "4          Don't know                        No                      No   \n",
            "\n",
            "      coworkers supervisor mental_health_interview phys_health_interview  \\\n",
            "0  Some of them        Yes                      No                 Maybe   \n",
            "1            No         No                      No                    No   \n",
            "2           Yes        Yes                     Yes                   Yes   \n",
            "3  Some of them         No                   Maybe                 Maybe   \n",
            "4  Some of them        Yes                     Yes                   Yes   \n",
            "\n",
            "  mental_vs_physical obs_consequence comments  \n",
            "0                Yes              No      NaN  \n",
            "1         Don't know              No      NaN  \n",
            "2                 No              No      NaN  \n",
            "3                 No             Yes      NaN  \n",
            "4         Don't know              No      NaN  \n",
            "\n",
            "[5 rows x 27 columns]\n",
            "\n",
            " LAST 5 ROWS\n",
            "------------------------------\n",
            "                Timestamp  Age Gender         Country state self_employed  \\\n",
            "1254  2015-09-12 11:17:21   26   male  United Kingdom   NaN            No   \n",
            "1255  2015-09-26 01:07:35   32   Male   United States    IL            No   \n",
            "1256  2015-11-07 12:36:58   34   male   United States    CA            No   \n",
            "1257  2015-11-30 21:25:06   46      f   United States    NC            No   \n",
            "1258  2016-02-01 23:04:31   25   Male   United States    IL            No   \n",
            "\n",
            "     family_history treatment work_interfere    no_employees  ...  \\\n",
            "1254             No       Yes            NaN          26-100  ...   \n",
            "1255            Yes       Yes          Often          26-100  ...   \n",
            "1256            Yes       Yes      Sometimes  More than 1000  ...   \n",
            "1257             No        No            NaN         100-500  ...   \n",
            "1258            Yes       Yes      Sometimes          26-100  ...   \n",
            "\n",
            "                   leave mental_health_consequence phys_health_consequence  \\\n",
            "1254       Somewhat easy                        No                      No   \n",
            "1255  Somewhat difficult                        No                      No   \n",
            "1256  Somewhat difficult                       Yes                     Yes   \n",
            "1257          Don't know                       Yes                      No   \n",
            "1258          Don't know                     Maybe                      No   \n",
            "\n",
            "         coworkers    supervisor mental_health_interview  \\\n",
            "1254  Some of them  Some of them                      No   \n",
            "1255  Some of them           Yes                      No   \n",
            "1256            No            No                      No   \n",
            "1257            No            No                      No   \n",
            "1258  Some of them            No                      No   \n",
            "\n",
            "     phys_health_interview mental_vs_physical obs_consequence comments  \n",
            "1254                    No         Don't know              No      NaN  \n",
            "1255                    No                Yes              No      NaN  \n",
            "1256                    No                 No              No      NaN  \n",
            "1257                    No                 No              No      NaN  \n",
            "1258                    No         Don't know              No      NaN  \n",
            "\n",
            "[5 rows x 27 columns]\n"
          ]
        }
      ]
    },
    {
      "cell_type": "markdown",
      "source": [
        "## 7: Numerical Columns Statistics"
      ],
      "metadata": {
        "id": "J0GZ6cGhksZV"
      }
    },
    {
      "cell_type": "code",
      "source": [
        "print(\"\\n NUMERICAL COLUMNS STATISTICS\")\n",
        "print(\"-\" * 30)\n",
        "numerical_cols = df.select_dtypes(include=[np.number]).columns.tolist()\n",
        "if numerical_cols:\n",
        "    print(df[numerical_cols].describe())\n",
        "else:\n",
        "    print(\"No numerical columns found\")"
      ],
      "metadata": {
        "colab": {
          "base_uri": "https://localhost:8080/"
        },
        "id": "YiX2ZdTIku5I",
        "outputId": "2c109655-6f0f-493d-8bb3-94adff20306c"
      },
      "execution_count": 11,
      "outputs": [
        {
          "output_type": "stream",
          "name": "stdout",
          "text": [
            "\n",
            " NUMERICAL COLUMNS STATISTICS\n",
            "------------------------------\n",
            "                Age\n",
            "count  1.259000e+03\n",
            "mean   7.942815e+07\n",
            "std    2.818299e+09\n",
            "min   -1.726000e+03\n",
            "25%    2.700000e+01\n",
            "50%    3.100000e+01\n",
            "75%    3.600000e+01\n",
            "max    1.000000e+11\n"
          ]
        }
      ]
    },
    {
      "cell_type": "markdown",
      "source": [
        "## 8: Missing Values Analysis"
      ],
      "metadata": {
        "id": "qQ4PtDn0k0le"
      }
    },
    {
      "cell_type": "code",
      "source": [
        "print(\"\\n MISSING VALUES ANALYSIS\")\n",
        "print(\"-\" * 30)\n",
        "missing_data = df.isnull().sum()\n",
        "missing_percent = (missing_data / len(df)) * 100\n",
        "missing_df = pd.DataFrame({\n",
        "    'Column': missing_data.index,\n",
        "    'Missing_Count': missing_data.values,\n",
        "    'Missing_Percentage': missing_percent.values\n",
        "})\n",
        "missing_df = missing_df[missing_df['Missing_Count'] > 0].sort_values('Missing_Count', ascending=False)\n",
        "print(missing_df.to_string(index=False))"
      ],
      "metadata": {
        "colab": {
          "base_uri": "https://localhost:8080/"
        },
        "id": "V8oEp6OTk3cW",
        "outputId": "f7c62949-d94e-4368-e306-7e3fb612903f"
      },
      "execution_count": 12,
      "outputs": [
        {
          "output_type": "stream",
          "name": "stdout",
          "text": [
            "\n",
            " MISSING VALUES ANALYSIS\n",
            "------------------------------\n",
            "        Column  Missing_Count  Missing_Percentage\n",
            "      comments           1095           86.973789\n",
            "         state            515           40.905481\n",
            "work_interfere            264           20.969023\n",
            " self_employed             18            1.429706\n"
          ]
        }
      ]
    },
    {
      "cell_type": "markdown",
      "source": [
        "## 9: Unique Values Count\n"
      ],
      "metadata": {
        "id": "RORcRaLJk_UU"
      }
    },
    {
      "cell_type": "code",
      "source": [
        "print(\"\\n UNIQUE VALUES COUNT\")\n",
        "print(\"-\" * 30)\n",
        "unique_counts = df.nunique().sort_values(ascending=False)\n",
        "for col, count in unique_counts.items():\n",
        "    print(f\"{col}: {count} unique values\")"
      ],
      "metadata": {
        "id": "1yLfXMXNlE0Q"
      },
      "execution_count": null,
      "outputs": []
    },
    {
      "cell_type": "markdown",
      "source": [
        "## 10:  Key Categorical Variables Distribution"
      ],
      "metadata": {
        "id": "yC3KvfT0lKrh"
      }
    },
    {
      "cell_type": "code",
      "source": [
        "print(\"\\n KEY CATEGORICAL VARIABLES DISTRIBUTION\")\n",
        "print(\"-\" * 30)\n",
        "\n",
        "key_columns = ['Age', 'Gender', 'Country', 'treatment', 'work_interfere',\n",
        "               'family_history', 'self_employed', 'tech_company', 'remote_work']\n",
        "\n",
        "for col in key_columns:\n",
        "    if col in df.columns:\n",
        "        print(f\"\\n{col.upper()} Distribution:\")\n",
        "        value_counts = df[col].value_counts()\n",
        "        print(value_counts.head(10))\n",
        "        print(f\"Total unique values: {df[col].nunique()}\")"
      ],
      "metadata": {
        "colab": {
          "base_uri": "https://localhost:8080/"
        },
        "id": "OjaCv5KelMjz",
        "outputId": "3b717e59-4a13-4951-c14c-0805de6500d2"
      },
      "execution_count": 13,
      "outputs": [
        {
          "output_type": "stream",
          "name": "stdout",
          "text": [
            "\n",
            " KEY CATEGORICAL VARIABLES DISTRIBUTION\n",
            "------------------------------\n",
            "\n",
            "AGE Distribution:\n",
            "Age\n",
            "29    85\n",
            "32    82\n",
            "26    75\n",
            "27    71\n",
            "33    70\n",
            "28    68\n",
            "31    67\n",
            "34    65\n",
            "30    63\n",
            "25    61\n",
            "Name: count, dtype: int64\n",
            "Total unique values: 53\n",
            "\n",
            "GENDER Distribution:\n",
            "Gender\n",
            "Male      615\n",
            "male      206\n",
            "Female    121\n",
            "M         116\n",
            "female     62\n",
            "F          38\n",
            "m          34\n",
            "f          15\n",
            "Make        4\n",
            "Male        3\n",
            "Name: count, dtype: int64\n",
            "Total unique values: 49\n",
            "\n",
            "COUNTRY Distribution:\n",
            "Country\n",
            "United States     751\n",
            "United Kingdom    185\n",
            "Canada             72\n",
            "Germany            45\n",
            "Netherlands        27\n",
            "Ireland            27\n",
            "Australia          21\n",
            "France             13\n",
            "India              10\n",
            "New Zealand         8\n",
            "Name: count, dtype: int64\n",
            "Total unique values: 48\n",
            "\n",
            "TREATMENT Distribution:\n",
            "treatment\n",
            "Yes    637\n",
            "No     622\n",
            "Name: count, dtype: int64\n",
            "Total unique values: 2\n",
            "\n",
            "WORK_INTERFERE Distribution:\n",
            "work_interfere\n",
            "Sometimes    465\n",
            "Never        213\n",
            "Rarely       173\n",
            "Often        144\n",
            "Name: count, dtype: int64\n",
            "Total unique values: 4\n",
            "\n",
            "FAMILY_HISTORY Distribution:\n",
            "family_history\n",
            "No     767\n",
            "Yes    492\n",
            "Name: count, dtype: int64\n",
            "Total unique values: 2\n",
            "\n",
            "SELF_EMPLOYED Distribution:\n",
            "self_employed\n",
            "No     1095\n",
            "Yes     146\n",
            "Name: count, dtype: int64\n",
            "Total unique values: 2\n",
            "\n",
            "TECH_COMPANY Distribution:\n",
            "tech_company\n",
            "Yes    1031\n",
            "No      228\n",
            "Name: count, dtype: int64\n",
            "Total unique values: 2\n",
            "\n",
            "REMOTE_WORK Distribution:\n",
            "remote_work\n",
            "No     883\n",
            "Yes    376\n",
            "Name: count, dtype: int64\n",
            "Total unique values: 2\n"
          ]
        }
      ]
    },
    {
      "cell_type": "markdown",
      "source": [
        "## 11: Age Analysis"
      ],
      "metadata": {
        "id": "_iRqEM7ilQPt"
      }
    },
    {
      "cell_type": "code",
      "source": [
        "if 'Age' in df.columns:\n",
        "    try:\n",
        "        age_numeric = pd.to_numeric(df['Age'], errors='coerce')\n",
        "        print(f\"\\nAGE STATISTICS:\")\n",
        "        print(f\"Mean age: {age_numeric.mean():.2f}\")\n",
        "        print(f\"Median age: {age_numeric.median():.2f}\")\n",
        "        print(f\"Min age: {age_numeric.min()}\")\n",
        "        print(f\"Max age: {age_numeric.max()}\")\n",
        "        print(f\"Standard deviation: {age_numeric.std():.2f}\")\n",
        "    except:\n",
        "        print(\"\\nAge column contains non-numeric values\")"
      ],
      "metadata": {
        "colab": {
          "base_uri": "https://localhost:8080/"
        },
        "id": "I9GvTLVWlTY6",
        "outputId": "26ff1af2-4dd0-43e7-ac41-81ed0281bf23"
      },
      "execution_count": 14,
      "outputs": [
        {
          "output_type": "stream",
          "name": "stdout",
          "text": [
            "\n",
            "AGE STATISTICS:\n",
            "Mean age: 79428148.31\n",
            "Median age: 31.00\n",
            "Min age: -1726\n",
            "Max age: 99999999999\n",
            "Standard deviation: 2818299442.98\n"
          ]
        }
      ]
    },
    {
      "cell_type": "markdown",
      "source": [
        "## 12: Treatment Analysis"
      ],
      "metadata": {
        "id": "SccDgj-OlV8k"
      }
    },
    {
      "cell_type": "code",
      "source": [
        "if 'treatment' in df.columns:\n",
        "    print(f\"\\n TREATMENT ANALYSIS\")\n",
        "    print(\"-\" * 30)\n",
        "    treatment_counts = df['treatment'].value_counts()\n",
        "    print(\"Treatment distribution:\")\n",
        "    print(treatment_counts)\n",
        "    print(f\"\\nTreatment percentage:\")\n",
        "    print((treatment_counts / len(df) * 100).round(2))"
      ],
      "metadata": {
        "colab": {
          "base_uri": "https://localhost:8080/"
        },
        "id": "JYr06Wd6lahF",
        "outputId": "6b849458-c18f-4767-dee3-491dce6b6abd"
      },
      "execution_count": 16,
      "outputs": [
        {
          "output_type": "stream",
          "name": "stdout",
          "text": [
            "\n",
            " TREATMENT ANALYSIS\n",
            "------------------------------\n",
            "Treatment distribution:\n",
            "treatment\n",
            "Yes    637\n",
            "No     622\n",
            "Name: count, dtype: int64\n",
            "\n",
            "Treatment percentage:\n",
            "treatment\n",
            "Yes    50.6\n",
            "No     49.4\n",
            "Name: count, dtype: float64\n"
          ]
        }
      ]
    },
    {
      "cell_type": "markdown",
      "source": [
        "## 13: Gender Analysis"
      ],
      "metadata": {
        "id": "qQB2EKwUlfYP"
      }
    },
    {
      "cell_type": "code",
      "source": [
        "if 'Gender' in df.columns:\n",
        "    print(f\"\\n GENDER ANALYSIS\")\n",
        "    print(\"-\" * 30)\n",
        "    gender_counts = df['Gender'].value_counts()\n",
        "    print(\"Gender distribution:\")\n",
        "    print(gender_counts.head(10))"
      ],
      "metadata": {
        "colab": {
          "base_uri": "https://localhost:8080/"
        },
        "id": "E9cRP8i_liEv",
        "outputId": "f99af4eb-c3d2-4922-adcb-a6c81265ce77"
      },
      "execution_count": 17,
      "outputs": [
        {
          "output_type": "stream",
          "name": "stdout",
          "text": [
            "\n",
            " GENDER ANALYSIS\n",
            "------------------------------\n",
            "Gender distribution:\n",
            "Gender\n",
            "Male      615\n",
            "male      206\n",
            "Female    121\n",
            "M         116\n",
            "female     62\n",
            "F          38\n",
            "m          34\n",
            "f          15\n",
            "Make        4\n",
            "Male        3\n",
            "Name: count, dtype: int64\n"
          ]
        }
      ]
    },
    {
      "cell_type": "markdown",
      "source": [
        "## 14: Country Analysis"
      ],
      "metadata": {
        "id": "8zpvrd9Slk_K"
      }
    },
    {
      "cell_type": "code",
      "source": [
        "if 'Country' in df.columns:\n",
        "    print(f\"\\n COUNTRY ANALYSIS\")\n",
        "    print(\"-\" * 30)\n",
        "    country_counts = df['Country'].value_counts()\n",
        "    print(\"Top 10 countries:\")\n",
        "    print(country_counts.head(10))"
      ],
      "metadata": {
        "colab": {
          "base_uri": "https://localhost:8080/"
        },
        "id": "gxsRlgm1lnx2",
        "outputId": "f60d387f-b787-4b31-8c8a-276689a689b9"
      },
      "execution_count": 18,
      "outputs": [
        {
          "output_type": "stream",
          "name": "stdout",
          "text": [
            "\n",
            " COUNTRY ANALYSIS\n",
            "------------------------------\n",
            "Top 10 countries:\n",
            "Country\n",
            "United States     751\n",
            "United Kingdom    185\n",
            "Canada             72\n",
            "Germany            45\n",
            "Netherlands        27\n",
            "Ireland            27\n",
            "Australia          21\n",
            "France             13\n",
            "India              10\n",
            "New Zealand         8\n",
            "Name: count, dtype: int64\n"
          ]
        }
      ]
    },
    {
      "cell_type": "markdown",
      "source": [
        "## 15: Work Interference"
      ],
      "metadata": {
        "id": "ZhcPmWH0lq-R"
      }
    },
    {
      "cell_type": "code",
      "source": [
        "if 'work_interfere' in df.columns:\n",
        "    print(f\"\\n WORK INTERFERENCE ANALYSIS\")\n",
        "    print(\"-\" * 30)\n",
        "    work_counts = df['work_interfere'].value_counts()\n",
        "    print(\"Work interference distribution:\")\n",
        "    print(work_counts)"
      ],
      "metadata": {
        "colab": {
          "base_uri": "https://localhost:8080/"
        },
        "id": "xcyCaZYmluyV",
        "outputId": "ac0a2f66-0377-415b-e14a-c189147d7da3"
      },
      "execution_count": 19,
      "outputs": [
        {
          "output_type": "stream",
          "name": "stdout",
          "text": [
            "\n",
            " WORK INTERFERENCE ANALYSIS\n",
            "------------------------------\n",
            "Work interference distribution:\n",
            "work_interfere\n",
            "Sometimes    465\n",
            "Never        213\n",
            "Rarely       173\n",
            "Often        144\n",
            "Name: count, dtype: int64\n"
          ]
        }
      ]
    },
    {
      "cell_type": "markdown",
      "source": [
        "## 16: Company Size"
      ],
      "metadata": {
        "id": "tGRXM3y5lxVS"
      }
    },
    {
      "cell_type": "code",
      "source": [
        "if 'no_employees' in df.columns:\n",
        "    print(f\"\\n COMPANY SIZE ANALYSIS\")\n",
        "    print(\"-\" * 30)\n",
        "    company_size_counts = df['no_employees'].value_counts()\n",
        "    print(\"Company size distribution:\")\n",
        "    print(company_size_counts)"
      ],
      "metadata": {
        "colab": {
          "base_uri": "https://localhost:8080/"
        },
        "id": "BYdO2GEml1Su",
        "outputId": "28af1e13-bc21-4f0a-e1db-433799b2867a"
      },
      "execution_count": 20,
      "outputs": [
        {
          "output_type": "stream",
          "name": "stdout",
          "text": [
            "\n",
            " COMPANY SIZE ANALYSIS\n",
            "------------------------------\n",
            "Company size distribution:\n",
            "no_employees\n",
            "6-25              290\n",
            "26-100            289\n",
            "More than 1000    282\n",
            "100-500           176\n",
            "1-5               162\n",
            "500-1000           60\n",
            "Name: count, dtype: int64\n"
          ]
        }
      ]
    },
    {
      "cell_type": "markdown",
      "source": [
        "## 17: Generating Visualizations"
      ],
      "metadata": {
        "id": "KZ5KB7c9l3pF"
      }
    },
    {
      "cell_type": "markdown",
      "source": [
        "### A: Treatment distribution"
      ],
      "metadata": {
        "id": "kl1RtGC5mehX"
      }
    },
    {
      "cell_type": "code",
      "source": [
        "\n",
        "print(\"\\nTREATMENT DISTRIBUTION VISUALIZATION\")\n",
        "print(\"-\" * 40)\n",
        "\n",
        "plt.style.use('default')\n",
        "fig, ax = plt.subplots(figsize=(6, 6))\n",
        "\n",
        "if 'treatment' in df.columns:\n",
        "    treatment_counts = df['treatment'].value_counts()\n",
        "\n",
        "    print(\"\\nTreatment Data Summary:\")\n",
        "    print(treatment_counts)\n",
        "\n",
        "    ax.pie(\n",
        "        treatment_counts.values,\n",
        "        labels=treatment_counts.index,\n",
        "        autopct='%1.1f%%',\n",
        "        startangle=90,\n",
        "        colors=plt.cm.Pastel1.colors\n",
        "    )\n",
        "    ax.set_title('Treatment Distribution')\n",
        "else:\n",
        "    print(\"\\nError: 'treatment' column not found in the dataset.\")\n",
        "    ax.text(0.5, 0.5, 'Treatment column not found', ha='center', va='center')\n",
        "    ax.set_title('Error: Treatment Data Missing')\n",
        "\n",
        "plt.tight_layout()\n",
        "plt.show()\n"
      ],
      "metadata": {
        "colab": {
          "base_uri": "https://localhost:8080/",
          "height": 763
        },
        "id": "LbTDgivYl7W4",
        "outputId": "a6cfd670-7b3b-480d-cc27-2e70c70189f4"
      },
      "execution_count": 31,
      "outputs": [
        {
          "output_type": "stream",
          "name": "stdout",
          "text": [
            "\n",
            "TREATMENT DISTRIBUTION VISUALIZATION\n",
            "----------------------------------------\n",
            "\n",
            "Treatment Data Summary:\n",
            "treatment\n",
            "Yes    637\n",
            "No     622\n",
            "Name: count, dtype: int64\n"
          ]
        },
        {
          "output_type": "display_data",
          "data": {
            "text/plain": [
              "<Figure size 600x600 with 1 Axes>"
            ],
            "image/png": "[encoded data removed]"
          },
          "metadata": {}
        }
      ]
    },
    {
      "cell_type": "markdown",
      "source": [
        "### B: Age Distribution"
      ],
      "metadata": {
        "id": "CS1W5GCXm5Y1"
      }
    },
    {
      "cell_type": "code",
      "source": [
        "\n",
        "print(\"\\nAGE DISTRIBUTION VISUALIZATION\")\n",
        "print(\"-\" * 40)\n",
        "\n",
        "plt.style.use('default')\n",
        "fig, ax = plt.subplots(figsize=(8, 6))\n",
        "\n",
        "if 'Age' in df.columns:\n",
        "    try:\n",
        "        age_numeric = pd.to_numeric(df['Age'], errors='coerce')\n",
        "        age_cleaned = age_numeric[(age_numeric >= 0) & (age_numeric <= 100)].dropna()\n",
        "\n",
        "        print(\"\\nAge Data Summary:\")\n",
        "        print(age_cleaned.describe())\n",
        "\n",
        "        ax.hist(\n",
        "            age_cleaned,\n",
        "            bins=20,\n",
        "            edgecolor='black',\n",
        "            alpha=0.7,\n",
        "            color='skyblue'\n",
        "        )\n",
        "        ax.set_title('Age Distribution')\n",
        "        ax.set_xlabel('Age')\n",
        "        ax.set_ylabel('Frequency')\n",
        "    except Exception as e:\n",
        "        print(\"\\nError processing age data:\", str(e))\n",
        "        ax.text(0.5, 0.5, 'Error processing age data', ha='center', va='center')\n",
        "        ax.set_title('Age Distribution - Error')\n",
        "else:\n",
        "    print(\"\\nError: 'Age' column not found in the dataset.\")\n",
        "    ax.text(0.5, 0.5, 'Age column not found', ha='center', va='center')\n",
        "    ax.set_title('Error: Age Data Missing')\n",
        "\n",
        "plt.tight_layout()\n",
        "plt.show()\n"
      ],
      "metadata": {
        "colab": {
          "base_uri": "https://localhost:8080/",
          "height": 730
        },
        "id": "K7kK1dkum79U",
        "outputId": "4c20ab90-c2bd-4520-b83a-9c837c523b66"
      },
      "execution_count": 33,
      "outputs": [
        {
          "output_type": "stream",
          "name": "stdout",
          "text": [
            "\n",
            "AGE DISTRIBUTION VISUALIZATION\n",
            "----------------------------------------\n",
            "\n",
            "Age Data Summary:\n",
            "count    1254.000000\n",
            "mean       32.019139\n",
            "std         7.375005\n",
            "min         5.000000\n",
            "25%        27.000000\n",
            "50%        31.000000\n",
            "75%        36.000000\n",
            "max        72.000000\n",
            "Name: Age, dtype: float64\n"
          ]
        },
        {
          "output_type": "display_data",
          "data": {
            "text/plain": [
              "<Figure size 800x600 with 1 Axes>"
            ],
            "image/png": "[encoded data removed]"
          },
          "metadata": {}
        }
      ]
    },
    {
      "cell_type": "markdown",
      "source": [
        "### C: Gender Distribution"
      ],
      "metadata": {
        "id": "wXVHmsacnIe2"
      }
    },
    {
      "cell_type": "code",
      "source": [
        "\n",
        "print(\"\\nGENDER DISTRIBUTION VISUALIZATION\")\n",
        "print(\"-\" * 45)\n",
        "\n",
        "plt.style.use('default')\n",
        "fig, ax = plt.subplots(figsize=(8, 6))\n",
        "\n",
        "if 'Gender' in df.columns:\n",
        "    gender_top10 = df['Gender'].value_counts().head(10)\n",
        "\n",
        "    print(\"\\nTop 10 Gender Categories:\")\n",
        "    print(gender_top10)\n",
        "\n",
        "    ax.barh(\n",
        "        range(len(gender_top10)),\n",
        "        gender_top10.values,\n",
        "        color='lightgreen'\n",
        "    )\n",
        "    ax.set_yticks(range(len(gender_top10)))\n",
        "    ax.set_yticklabels(gender_top10.index)\n",
        "    ax.set_title('Top 10 Gender Categories')\n",
        "    ax.set_xlabel('Count')\n",
        "    ax.invert_yaxis()\n",
        "else:\n",
        "    print(\"\\nError: 'Gender' column not found in the dataset.\")\n",
        "    ax.text(0.5, 0.5, 'Gender column not found', ha='center', va='center')\n",
        "    ax.set_title('Error: Gender Data Missing')\n",
        "\n",
        "plt.tight_layout()\n",
        "plt.show()\n"
      ],
      "metadata": {
        "colab": {
          "base_uri": "https://localhost:8080/",
          "height": 782
        },
        "id": "4GyJUOjOnLPY",
        "outputId": "8e795494-15b2-45a1-cecf-a066a7aec1c6"
      },
      "execution_count": 34,
      "outputs": [
        {
          "output_type": "stream",
          "name": "stdout",
          "text": [
            "\n",
            "GENDER DISTRIBUTION VISUALIZATION\n",
            "---------------------------------------------\n",
            "\n",
            "Top 10 Gender Categories:\n",
            "Gender\n",
            "Male      615\n",
            "male      206\n",
            "Female    121\n",
            "M         116\n",
            "female     62\n",
            "F          38\n",
            "m          34\n",
            "f          15\n",
            "Make        4\n",
            "Male        3\n",
            "Name: count, dtype: int64\n"
          ]
        },
        {
          "output_type": "display_data",
          "data": {
            "text/plain": [
              "<Figure size 800x600 with 1 Axes>"
            ],
            "image/png": "[encoded data removed]"
          },
          "metadata": {}
        }
      ]
    },
    {
      "cell_type": "markdown",
      "source": [
        "### D:  Work Interference Distribution"
      ],
      "metadata": {
        "id": "COCs1ZL0nPZY"
      }
    },
    {
      "cell_type": "code",
      "source": [
        "\n",
        "print(\"\\nWORK INTERFERENCE DISTRIBUTION VISUALIZATION\")\n",
        "print(\"-\" * 50)\n",
        "\n",
        "plt.style.use('default')\n",
        "fig, ax = plt.subplots(figsize=(8, 6))\n",
        "\n",
        "if 'work_interfere' in df.columns:\n",
        "    work_counts = df['work_interfere'].value_counts()\n",
        "\n",
        "    print(\"\\nWork Interference Data Summary:\")\n",
        "    print(work_counts)\n",
        "\n",
        "    ax.bar(\n",
        "        range(len(work_counts)),\n",
        "        work_counts.values,\n",
        "        color='coral'\n",
        "    )\n",
        "    ax.set_xticks(range(len(work_counts)))\n",
        "    ax.set_xticklabels(work_counts.index, rotation=45, ha='right')\n",
        "    ax.set_title('Work Interference Distribution')\n",
        "    ax.set_ylabel('Count')\n",
        "else:\n",
        "    print(\"\\nError: 'work_interfere' column not found in the dataset.\")\n",
        "    ax.text(0.5, 0.5, 'work_interfere column not found', ha='center', va='center')\n",
        "    ax.set_title('Error: Work Interference Data Missing')\n",
        "\n",
        "plt.tight_layout()\n",
        "plt.show()\n"
      ],
      "metadata": {
        "colab": {
          "base_uri": "https://localhost:8080/",
          "height": 678
        },
        "id": "74pcCOQPnSqx",
        "outputId": "27b6633e-5e5c-4606-bccf-13b3da5d5717"
      },
      "execution_count": 35,
      "outputs": [
        {
          "output_type": "stream",
          "name": "stdout",
          "text": [
            "\n",
            "WORK INTERFERENCE DISTRIBUTION VISUALIZATION\n",
            "--------------------------------------------------\n",
            "\n",
            "Work Interference Data Summary:\n",
            "work_interfere\n",
            "Sometimes    465\n",
            "Never        213\n",
            "Rarely       173\n",
            "Often        144\n",
            "Name: count, dtype: int64\n"
          ]
        },
        {
          "output_type": "display_data",
          "data": {
            "text/plain": [
              "<Figure size 800x600 with 1 Axes>"
            ],
            "image/png": "[encoded data removed]"
          },
          "metadata": {}
        }
      ]
    }
  ]
}